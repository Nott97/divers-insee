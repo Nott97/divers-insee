{
 "cells": [
  {
   "cell_type": "code",
   "execution_count": 91,
   "metadata": {},
   "outputs": [
    {
     "data": {
      "text/html": [
       "<table>\n",
       "<caption>A data.frame: 6 × 5</caption>\n",
       "<thead>\n",
       "\t<tr><th scope=col>Z</th><th scope=col>D</th><th scope=col>h</th><th scope=col>l</th><th scope=col>Y</th></tr>\n",
       "\t<tr><th scope=col>&lt;dbl&gt;</th><th scope=col>&lt;dbl&gt;</th><th scope=col>&lt;dbl&gt;</th><th scope=col>&lt;dbl&gt;</th><th scope=col>&lt;dbl&gt;</th></tr>\n",
       "</thead>\n",
       "<tbody>\n",
       "\t<tr><td>1</td><td>0.6490570</td><td>0</td><td>0</td><td>-0.8987683</td></tr>\n",
       "\t<tr><td>1</td><td>1.2652635</td><td>0</td><td>0</td><td> 0.7843014</td></tr>\n",
       "\t<tr><td>1</td><td>1.5308321</td><td>0</td><td>0</td><td> 2.1278813</td></tr>\n",
       "\t<tr><td>0</td><td>0.2696676</td><td>0</td><td>1</td><td> 1.2632697</td></tr>\n",
       "\t<tr><td>1</td><td>1.3295216</td><td>0</td><td>0</td><td> 0.9705133</td></tr>\n",
       "\t<tr><td>1</td><td>1.4049714</td><td>0</td><td>0</td><td> 1.5367004</td></tr>\n",
       "</tbody>\n",
       "</table>\n"
      ],
      "text/latex": [
       "A data.frame: 6 × 5\n",
       "\\begin{tabular}{r|lllll}\n",
       " Z & D & h & l & Y\\\\\n",
       " <dbl> & <dbl> & <dbl> & <dbl> & <dbl>\\\\\n",
       "\\hline\n",
       "\t 1 & 0.6490570 & 0 & 0 & -0.8987683\\\\\n",
       "\t 1 & 1.2652635 & 0 & 0 &  0.7843014\\\\\n",
       "\t 1 & 1.5308321 & 0 & 0 &  2.1278813\\\\\n",
       "\t 0 & 0.2696676 & 0 & 1 &  1.2632697\\\\\n",
       "\t 1 & 1.3295216 & 0 & 0 &  0.9705133\\\\\n",
       "\t 1 & 1.4049714 & 0 & 0 &  1.5367004\\\\\n",
       "\\end{tabular}\n"
      ],
      "text/markdown": [
       "\n",
       "A data.frame: 6 × 5\n",
       "\n",
       "| Z &lt;dbl&gt; | D &lt;dbl&gt; | h &lt;dbl&gt; | l &lt;dbl&gt; | Y &lt;dbl&gt; |\n",
       "|---|---|---|---|---|\n",
       "| 1 | 0.6490570 | 0 | 0 | -0.8987683 |\n",
       "| 1 | 1.2652635 | 0 | 0 |  0.7843014 |\n",
       "| 1 | 1.5308321 | 0 | 0 |  2.1278813 |\n",
       "| 0 | 0.2696676 | 0 | 1 |  1.2632697 |\n",
       "| 1 | 1.3295216 | 0 | 0 |  0.9705133 |\n",
       "| 1 | 1.4049714 | 0 | 0 |  1.5367004 |\n",
       "\n"
      ],
      "text/plain": [
       "  Z D         h l Y         \n",
       "1 1 0.6490570 0 0 -0.8987683\n",
       "2 1 1.2652635 0 0  0.7843014\n",
       "3 1 1.5308321 0 0  2.1278813\n",
       "4 0 0.2696676 0 1  1.2632697\n",
       "5 1 1.3295216 0 0  0.9705133\n",
       "6 1 1.4049714 0 0  1.5367004"
      ]
     },
     "metadata": {},
     "output_type": "display_data"
    }
   ],
   "source": [
    "### IV by groups, a little test\n",
    "### Jeremy L'Hour\n",
    "### 15/10/2019\n",
    "\n",
    "rm(list=ls())\n",
    "### PACKAGES AND FUNCTIONS\n",
    "#install.packages(\"AER\")\n",
    "library(\"AER\")\n",
    "\n",
    "### DGP\n",
    "n = 100000\n",
    "data = data.frame(Z = 1*(runif(n) > .5))\n",
    "eta = rnorm(n,sd=.2)\n",
    "data[,\"D\"] = .2 + 1*data[,\"Z\"] + eta\n",
    "theta <- rexp(n)\n",
    "thres = .2\n",
    "high.baseline = quantile(theta, 1-thres);\n",
    "low.baseline  = quantile(theta, thres);\n",
    "data[,\"h\"] = as.numeric(theta>high.baseline)\n",
    "data[,\"l\"] = as.numeric(theta<low.baseline)\n",
    "\n",
    "data[,\"Y\"] = 0.5 + .7*data[,\"D\"]*data[,\"h\"] + .3*data[,\"D\"]*data[,\"l\"] + .5*data[,\"D\"]*(1-data[,\"h\"]-data[,\"l\"]) + (eta + rnorm(n,sd=1))\n",
    "\n",
    "head(data)"
   ]
  },
  {
   "cell_type": "code",
   "execution_count": 92,
   "metadata": {},
   "outputs": [
    {
     "name": "stdout",
     "output_type": "stream",
     "text": [
      "[1] \"Package IV: 0.48633445938253\"\n",
      "[1] \"2 SLS: 0.48633445938253\"\n",
      "[1] \"Control function: 0.486334459382531\"\n",
      "[1] \"Direct Estimate: 0.486334459382531\"\n"
     ]
    },
    {
     "data": {
      "text/plain": [
       "\n",
       "Call:\n",
       "ivreg(formula = Y ~ D | Z, data = data)\n",
       "\n",
       "Residuals:\n",
       "       Min         1Q     Median         3Q        Max \n",
       "-4.4939649 -0.6928109 -0.0009233  0.6966009  4.2302005 \n",
       "\n",
       "Coefficients:\n",
       "            Estimate Std. Error t value Pr(>|t|)    \n",
       "(Intercept) 0.511639   0.005581   91.68   <2e-16 ***\n",
       "D           0.486334   0.006491   74.93   <2e-16 ***\n",
       "---\n",
       "Signif. codes:  0 ‘***’ 0.001 ‘**’ 0.01 ‘*’ 0.05 ‘.’ 0.1 ‘ ’ 1\n",
       "\n",
       "Residual standard error: 1.027 on 99998 degrees of freedom\n",
       "Multiple R-Squared: 0.09334,\tAdjusted R-squared: 0.09333 \n",
       "Wald test:  5614 on 1 and 99998 DF,  p-value: < 2.2e-16 \n"
      ]
     },
     "metadata": {},
     "output_type": "display_data"
    }
   ],
   "source": [
    "### 1. Avec le package IV reg\n",
    "\n",
    "IVreg1 = ivreg(Y ~ D | Z, data = data)                   \n",
    "print(paste(\"Package IV:\",coef(IVreg1)[\"D\"]))\n",
    "\n",
    "### 2. 2SLS\n",
    "FS <- lm(D ~ Z, data=data)\n",
    "data[,\"D.hat\"] <- predict(FS)\n",
    "SS = lm(Y ~ D.hat, data = data)                   \n",
    "print(paste(\"2 SLS:\",coef(SS)[\"D.hat\"]))\n",
    "\n",
    "### 3. Control function\n",
    "data[,\"D.eps\"] <- FS$residuals\n",
    "SS2 = lm(Y ~ D + D.eps, data = data)                   \n",
    "print(paste(\"Control function:\",coef(SS2)[\"D\"]))\n",
    "\n",
    "### 4. Direct Estimate\n",
    "b.iv <- function(y,x,z) cov(y,z)/cov(x,z)\n",
    "print(paste(\"Direct Estimate:\",b.iv(data[,\"Y\"],data[,\"D\"],data[,\"Z\"])))\n",
    "\n",
    "summary(IVreg1)"
   ]
  },
  {
   "cell_type": "code",
   "execution_count": 93,
   "metadata": {},
   "outputs": [
    {
     "data": {
      "text/plain": [
       "\n",
       "Call:\n",
       "ivreg(formula = Y ~ Dh + Dl + Dn | Zh + Zl + Zn, data = data)\n",
       "\n",
       "Residuals:\n",
       "       Min         1Q     Median         3Q        Max \n",
       "-4.4476591 -0.6877362 -0.0007125  0.6931240  4.4989819 \n",
       "\n",
       "Coefficients:\n",
       "            Estimate Std. Error t value Pr(>|t|)    \n",
       "(Intercept) 0.511403   0.005544   92.24   <2e-16 ***\n",
       "Dh          0.693061   0.009981   69.44   <2e-16 ***\n",
       "Dl          0.275432   0.009929   27.74   <2e-16 ***\n",
       "Dn          0.488667   0.007164   68.22   <2e-16 ***\n",
       "---\n",
       "Signif. codes:  0 ‘***’ 0.001 ‘**’ 0.01 ‘*’ 0.05 ‘.’ 0.1 ‘ ’ 1\n",
       "\n",
       "Residual standard error: 1.02 on 99996 degrees of freedom\n",
       "Multiple R-Squared: 0.1052,\tAdjusted R-squared: 0.1052 \n",
       "Wald test:  2298 on 3 and 99996 DF,  p-value: < 2.2e-16 \n"
      ]
     },
     "metadata": {},
     "output_type": "display_data"
    }
   ],
   "source": [
    "data[,\"Dh\"] = data[,\"D\"]*data[,\"h\"]\n",
    "data[,\"Dl\"] = data[,\"D\"]*data[,\"l\"]\n",
    "data[,\"Dn\"] = data[,\"D\"]*(1-data[,\"h\"]-data[,\"l\"])\n",
    "data[,\"Zh\"] = data[,\"Z\"]*data[,\"h\"]\n",
    "data[,\"Zl\"] = data[,\"Z\"]*data[,\"l\"]\n",
    "data[,\"Zn\"] = data[,\"Z\"]*(1-data[,\"h\"]-data[,\"l\"])\n",
    "\n",
    "IVreg2 = ivreg(Y ~ Dh + Dl + Dn | Zh + Zl + Zn, data = data)                   \n",
    "summary(IVreg2)"
   ]
  },
  {
   "cell_type": "code",
   "execution_count": 94,
   "metadata": {},
   "outputs": [
    {
     "data": {
      "text/plain": [
       "\n",
       "Call:\n",
       "lm(formula = Y ~ Dh + Dl + Dn, data = data)\n",
       "\n",
       "Residuals:\n",
       "    Min      1Q  Median      3Q     Max \n",
       "-4.3167 -0.6845 -0.0032  0.6879  4.4187 \n",
       "\n",
       "Coefficients:\n",
       "            Estimate Std. Error t value Pr(>|t|)    \n",
       "(Intercept) 0.412384   0.005271   78.23   <2e-16 ***\n",
       "Dh          0.836259   0.009430   88.69   <2e-16 ***\n",
       "Dl          0.416239   0.009382   44.37   <2e-16 ***\n",
       "Dn          0.629976   0.006677   94.35   <2e-16 ***\n",
       "---\n",
       "Signif. codes:  0 ‘***’ 0.001 ‘**’ 0.01 ‘*’ 0.05 ‘.’ 0.1 ‘ ’ 1\n",
       "\n",
       "Residual standard error: 1.017 on 99996 degrees of freedom\n",
       "Multiple R-squared:  0.1102,\tAdjusted R-squared:  0.1102 \n",
       "F-statistic:  4128 on 3 and 99996 DF,  p-value: < 2.2e-16\n"
      ]
     },
     "metadata": {},
     "output_type": "display_data"
    }
   ],
   "source": [
    "summary(lm(Y ~ Dh + Dl + Dn, data = data))"
   ]
  },
  {
   "cell_type": "code",
   "execution_count": null,
   "metadata": {},
   "outputs": [],
   "source": []
  },
  {
   "cell_type": "code",
   "execution_count": null,
   "metadata": {},
   "outputs": [],
   "source": []
  }
 ],
 "metadata": {
  "kernelspec": {
   "display_name": "R",
   "language": "R",
   "name": "ir"
  },
  "language_info": {
   "codemirror_mode": "r",
   "file_extension": ".r",
   "mimetype": "text/x-r-source",
   "name": "R",
   "pygments_lexer": "r",
   "version": "3.6.1"
  }
 },
 "nbformat": 4,
 "nbformat_minor": 4
}
