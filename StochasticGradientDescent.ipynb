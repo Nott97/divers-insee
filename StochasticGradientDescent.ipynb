{
 "cells": [
  {
   "cell_type": "code",
   "execution_count": 1,
   "metadata": {},
   "outputs": [],
   "source": [
    "### Stochastic Gradient Descent\n",
    "### 02 octobre 2019\n",
    "### Jeremy L Hour\n",
    "\n",
    "### Functions\n",
    "LogitLoss <- function(beta,y,X){\n",
    "  X <- as.matrix(X)\n",
    "  f <- log(1+exp(-y*(X%*%beta)))                                                                      \n",
    "  return(mean(f,na.rm=T))\n",
    "}\n",
    "\n",
    "LogitGrad <- function(beta,y,X){\n",
    "  X <- as.matrix(X)\n",
    "  f <- y / (1+exp(y*(X%*%beta)))\n",
    "  f <- -as.vector(f)*X\n",
    "  return(as.vector(apply(f,2,mean,na.rm=T)))\n",
    "}"
   ]
  },
  {
   "cell_type": "code",
   "execution_count": null,
   "metadata": {},
   "outputs": [],
   "source": [
    "SGD <- function(y,X,eta=.1,tol=e-6,Kmax=1000){\n",
    "    betaO = rep(0,ncol(X))\n",
    "    k = 0\n",
    "    \n",
    "    repeat{\n",
    "        k = 1\n",
    "        \n",
    "        if(k > Kmax || max(abs(beta-betaO)) < tol) break\n",
    "    }\n",
    "    \n",
    "}"
   ]
  }
 ],
 "metadata": {
  "kernelspec": {
   "display_name": "R",
   "language": "R",
   "name": "ir"
  },
  "language_info": {
   "codemirror_mode": "r",
   "file_extension": ".r",
   "mimetype": "text/x-r-source",
   "name": "R",
   "pygments_lexer": "r",
   "version": "3.6.1"
  }
 },
 "nbformat": 4,
 "nbformat_minor": 2
}
