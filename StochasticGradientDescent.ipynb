{
 "cells": [
  {
   "cell_type": "code",
   "execution_count": 2,
   "metadata": {},
   "outputs": [],
   "source": [
    "### Stochastic Gradient Descent\n",
    "### 02 octobre 2019\n",
    "### Jeremy L Hour\n",
    "\n",
    "### Functions\n",
    "LogitLoss <- function(beta,y,X){\n",
    "  X <- as.matrix(X)\n",
    "  f <- log(1+exp(-y*(X%*%beta)))                                                                      \n",
    "  return(mean(f,na.rm=T))\n",
    "}\n",
    "\n",
    "LogitGrad <- function(beta,y,X){\n",
    "  X <- as.matrix(X)\n",
    "  f <- y / (1+exp(y*(X%*%beta)))\n",
    "  return(-as.vector(f)*X)\n",
    "}"
   ]
  },
  {
   "cell_type": "code",
   "execution_count": 3,
   "metadata": {},
   "outputs": [],
   "source": [
    "SGD <- function(y,X,eta=.1,tol=e-6,Kmax=1000){\n",
    "    n = length(y)\n",
    "    beta = rep(0,ncol(X))\n",
    "    k = 0\n",
    "    \n",
    "    repeat{\n",
    "        k = 1\n",
    "        betaO = beta\n",
    "        Delta = LogitGrad(betaO,y,X)\n",
    "        for(i in 1:n){\n",
    "            beta = beta - eta*Delta[i,]\n",
    "        }\n",
    "        if(k > Kmax || max(abs(beta-betaO)) < tol) break\n",
    "    }\n",
    "    \n",
    "    return(beta)\n",
    "}"
   ]
  },
  {
   "cell_type": "code",
   "execution_count": 5,
   "metadata": {},
   "outputs": [],
   "source": [
    "### Data simulation\n",
    "n = 100\n",
    "p = 5\n",
    "beta = rep(1,p)\n",
    "X = matrix(rnorm(p*n), nrow=n, ncol=p)\n",
    "y = ifelse(runif(n) < 1/(1+exp(-X%*%beta)),1,0)"
   ]
  },
  {
   "cell_type": "code",
   "execution_count": null,
   "metadata": {},
   "outputs": [],
   "source": [
    "### Optim\n",
    "SGD(y,X,eta=0.01,Kmax=10)"
   ]
  }
 ],
 "metadata": {
  "kernelspec": {
   "display_name": "R",
   "language": "R",
   "name": "ir"
  },
  "language_info": {
   "codemirror_mode": "r",
   "file_extension": ".r",
   "mimetype": "text/x-r-source",
   "name": "R",
   "pygments_lexer": "r",
   "version": "3.6.1"
  }
 },
 "nbformat": 4,
 "nbformat_minor": 2
}
