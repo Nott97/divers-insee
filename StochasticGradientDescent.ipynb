{
 "cells": [
  {
   "cell_type": "code",
   "execution_count": 2,
   "metadata": {},
   "outputs": [],
   "source": [
    "### Stochastic Gradient Descent\n",
    "### 02 octobre 2019\n",
    "### Jeremy L Hour\n",
    "\n",
    "### Functions\n",
    "LogitLoss <- function(beta,y,X){\n",
    "  X <- as.matrix(X)\n",
    "  f <- log(1+exp(-y*(X%*%beta)))                                                                      \n",
    "  return(mean(f,na.rm=T))\n",
    "}\n",
    "\n",
    "LogitGrad <- function(beta,y,X){\n",
    "  X <- as.matrix(X)\n",
    "  f <- y / (1+exp(y*(X%*%beta)))\n",
    "  return(-as.vector(f)*X)\n",
    "}"
   ]
  },
  {
   "cell_type": "code",
   "execution_count": 9,
   "metadata": {},
   "outputs": [],
   "source": [
    "SGD <- function(y,X,eta=.1,tol=1e-8,Kmax=1000){\n",
    "    n = length(y)\n",
    "    beta = rep(0,ncol(X))\n",
    "    k = 0\n",
    "    \n",
    "    repeat{\n",
    "        k = k+1\n",
    "        betaO = beta\n",
    "        Delta = LogitGrad(betaO,y,X)\n",
    "        for(i in 1:n){\n",
    "            beta = beta - eta*Delta[i,]\n",
    "        }\n",
    "        if(k > Kmax || max(abs(beta-betaO)) < tol) break\n",
    "    }\n",
    "    print(k)\n",
    "    return(beta)\n",
    "}"
   ]
  },
  {
   "cell_type": "code",
   "execution_count": 5,
   "metadata": {},
   "outputs": [],
   "source": [
    "### Data simulation\n",
    "n = 100\n",
    "p = 5\n",
    "beta = rep(1,p)\n",
    "X = matrix(rnorm(p*n), nrow=n, ncol=p)\n",
    "y = ifelse(runif(n) < 1/(1+exp(-X%*%beta)),1,0)"
   ]
  },
  {
   "cell_type": "code",
   "execution_count": 10,
   "metadata": {},
   "outputs": [
    {
     "data": {
      "text/html": [
       "<ol class=list-inline>\n",
       "\t<li>0.787322199179565</li>\n",
       "\t<li>1.12890834255108</li>\n",
       "\t<li>0.303357778007192</li>\n",
       "\t<li>-0.00857896641088033</li>\n",
       "\t<li>0.734946525884306</li>\n",
       "</ol>\n"
      ],
      "text/latex": [
       "\\begin{enumerate*}\n",
       "\\item 0.787322199179565\n",
       "\\item 1.12890834255108\n",
       "\\item 0.303357778007192\n",
       "\\item -0.00857896641088033\n",
       "\\item 0.734946525884306\n",
       "\\end{enumerate*}\n"
      ],
      "text/markdown": [
       "1. 0.787322199179565\n",
       "2. 1.12890834255108\n",
       "3. 0.303357778007192\n",
       "4. -0.00857896641088033\n",
       "5. 0.734946525884306\n",
       "\n",
       "\n"
      ],
      "text/plain": [
       "[1]  0.787322199  1.128908343  0.303357778 -0.008578966  0.734946526"
      ]
     },
     "metadata": {},
     "output_type": "display_data"
    }
   ],
   "source": [
    "### Optim\n",
    "SGD(y,X,eta=0.01,Kmax=10)"
   ]
  },
  {
   "cell_type": "code",
   "execution_count": null,
   "metadata": {},
   "outputs": [],
   "source": []
  }
 ],
 "metadata": {
  "kernelspec": {
   "display_name": "R",
   "language": "R",
   "name": "ir"
  },
  "language_info": {
   "codemirror_mode": "r",
   "file_extension": ".r",
   "mimetype": "text/x-r-source",
   "name": "R",
   "pygments_lexer": "r",
   "version": "3.6.1"
  }
 },
 "nbformat": 4,
 "nbformat_minor": 2
}
