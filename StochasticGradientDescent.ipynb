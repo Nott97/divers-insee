{
 "cells": [
  {
   "cell_type": "code",
   "execution_count": 2,
   "metadata": {},
   "outputs": [],
   "source": [
    "### Stochastic Gradient Descent\n",
    "### 02 octobre 2019\n",
    "### Jeremy L Hour\n",
    "\n",
    "### Functions\n",
    "LogitLoss <- function(beta,y,X){\n",
    "  X <- as.matrix(X)\n",
    "  f <- log(1+exp(-y*(X%*%beta)))                                                                      \n",
    "  return(mean(f,na.rm=T))\n",
    "}\n",
    "\n",
    "LogitGrad <- function(beta,y,X){\n",
    "  X <- as.matrix(X)\n",
    "  f <- y / (1+exp(y*(X%*%beta)))\n",
    "  return(-as.vector(f)*X)\n",
    "}"
   ]
  },
  {
   "cell_type": "code",
   "execution_count": 11,
   "metadata": {},
   "outputs": [],
   "source": [
    "SGD <- function(y,X,eta=.1,tol=1e-8,Kmax=1000){\n",
    "    n = length(y)\n",
    "    beta = rep(0,ncol(X))\n",
    "    k = 0\n",
    "    \n",
    "    repeat{\n",
    "        k = k+1\n",
    "        print(k)\n",
    "        betaO = beta\n",
    "        Delta = LogitGrad(betaO,y,X)\n",
    "        for(i in 1:n){\n",
    "            beta = beta - eta*Delta[i,]\n",
    "        }\n",
    "        if(k > Kmax || max(abs(beta-betaO)) < tol) break\n",
    "    }\n",
    "    return(beta)\n",
    "}"
   ]
  },
  {
   "cell_type": "code",
   "execution_count": 13,
   "metadata": {},
   "outputs": [],
   "source": [
    "### Data simulation\n",
    "n = 1000\n",
    "p = 5\n",
    "beta = rep(1,p)\n",
    "X = matrix(rnorm(p*n), nrow=n, ncol=p)\n",
    "y = ifelse(runif(n) < 1/(1+exp(-X%*%beta)),1,0)"
   ]
  },
  {
   "cell_type": "code",
   "execution_count": 16,
   "metadata": {},
   "outputs": [
    {
     "name": "stdout",
     "output_type": "stream",
     "text": [
      "[1] 1\n",
      "[1] 2\n",
      "[1] 3\n",
      "[1] 4\n",
      "[1] 5\n",
      "[1] 6\n",
      "[1] 7\n",
      "[1] 8\n",
      "[1] 9\n",
      "[1] 10\n",
      "[1] 11\n",
      "[1] 12\n",
      "[1] 13\n",
      "[1] 14\n",
      "[1] 15\n",
      "[1] 16\n",
      "[1] 17\n",
      "[1] 18\n",
      "[1] 19\n",
      "[1] 20\n",
      "[1] 21\n",
      "[1] 22\n",
      "[1] 23\n",
      "[1] 24\n",
      "[1] 25\n",
      "[1] 26\n",
      "[1] 27\n",
      "[1] 28\n",
      "[1] 29\n",
      "[1] 30\n",
      "[1] 31\n",
      "[1] 32\n",
      "[1] 33\n",
      "[1] 34\n",
      "[1] 35\n",
      "[1] 36\n",
      "[1] 37\n",
      "[1] 38\n",
      "[1] 39\n",
      "[1] 40\n",
      "[1] 41\n",
      "[1] 42\n",
      "[1] 43\n",
      "[1] 44\n",
      "[1] 45\n",
      "[1] 46\n",
      "[1] 47\n",
      "[1] 48\n",
      "[1] 49\n",
      "[1] 50\n",
      "[1] 51\n",
      "[1] 52\n",
      "[1] 53\n",
      "[1] 54\n",
      "[1] 55\n",
      "[1] 56\n",
      "[1] 57\n",
      "[1] 58\n",
      "[1] 59\n"
     ]
    },
    {
     "data": {
      "text/html": [
       "<ol class=list-inline>\n",
       "\t<li>1.05953422091019</li>\n",
       "\t<li>0.923395996302144</li>\n",
       "\t<li>1.19568882579228</li>\n",
       "\t<li>1.19536754415217</li>\n",
       "\t<li>0.918688225300473</li>\n",
       "</ol>\n"
      ],
      "text/latex": [
       "\\begin{enumerate*}\n",
       "\\item 1.05953422091019\n",
       "\\item 0.923395996302144\n",
       "\\item 1.19568882579228\n",
       "\\item 1.19536754415217\n",
       "\\item 0.918688225300473\n",
       "\\end{enumerate*}\n"
      ],
      "text/markdown": [
       "1. 1.05953422091019\n",
       "2. 0.923395996302144\n",
       "3. 1.19568882579228\n",
       "4. 1.19536754415217\n",
       "5. 0.918688225300473\n",
       "\n",
       "\n"
      ],
      "text/plain": [
       "[1] 1.0595342 0.9233960 1.1956888 1.1953675 0.9186882"
      ]
     },
     "metadata": {},
     "output_type": "display_data"
    }
   ],
   "source": [
    "### Optim\n",
    "SGD(y,X,eta=0.01,Kmax=100)"
   ]
  },
  {
   "cell_type": "code",
   "execution_count": 15,
   "metadata": {},
   "outputs": [
    {
     "data": {
      "text/plain": [
       "\n",
       "Call:\n",
       "glm(formula = y ~ X - 1, family = binomial(link = \"logit\"))\n",
       "\n",
       "Deviance Residuals: \n",
       "    Min       1Q   Median       3Q      Max  \n",
       "-2.4846  -0.6306   0.1427   0.6749   3.0020  \n",
       "\n",
       "Coefficients:\n",
       "   Estimate Std. Error z value Pr(>|z|)    \n",
       "X1  1.09817    0.10262  10.701   <2e-16 ***\n",
       "X2  0.91018    0.09475   9.606   <2e-16 ***\n",
       "X3  1.03315    0.10168  10.160   <2e-16 ***\n",
       "X4  1.21677    0.10872  11.192   <2e-16 ***\n",
       "X5  0.84390    0.09577   8.811   <2e-16 ***\n",
       "---\n",
       "Signif. codes:  0 ‘***’ 0.001 ‘**’ 0.01 ‘*’ 0.05 ‘.’ 0.1 ‘ ’ 1\n",
       "\n",
       "(Dispersion parameter for binomial family taken to be 1)\n",
       "\n",
       "    Null deviance: 1386.29  on 1000  degrees of freedom\n",
       "Residual deviance:  834.81  on  995  degrees of freedom\n",
       "AIC: 844.81\n",
       "\n",
       "Number of Fisher Scoring iterations: 5\n"
      ]
     },
     "metadata": {},
     "output_type": "display_data"
    }
   ],
   "source": [
    "logit <- glm(y ~ X-1, binomial(link = \"logit\"))\n",
    "summary(logit)"
   ]
  },
  {
   "cell_type": "code",
   "execution_count": null,
   "metadata": {},
   "outputs": [],
   "source": []
  }
 ],
 "metadata": {
  "kernelspec": {
   "display_name": "R",
   "language": "R",
   "name": "ir"
  },
  "language_info": {
   "codemirror_mode": "r",
   "file_extension": ".r",
   "mimetype": "text/x-r-source",
   "name": "R",
   "pygments_lexer": "r",
   "version": "3.6.1"
  }
 },
 "nbformat": 4,
 "nbformat_minor": 2
}
