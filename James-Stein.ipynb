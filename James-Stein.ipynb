{
 "cells": [
  {
   "cell_type": "code",
   "execution_count": 2,
   "metadata": {},
   "outputs": [],
   "source": [
    "### Stein's Unbiased Risk Estimate and Stein's Paradox\n",
    "### Jeremy L Hour\n",
    "### 30/10/2017\n",
    "\n",
    "\n",
    "rm(list=ls())\n",
    "set.seed(000)\n",
    "\n",
    "### Packages\n",
    "library(\"MASS\")\n",
    "\n",
    "### Functions\n",
    "JSestim = function(X){\n",
    "  d = length(X)\n",
    "  return((1-(d-2)/sum(X^2))*X)\n",
    "}\n",
    "\n",
    "PosJSestim = function(X){\n",
    "  d = length(X)\n",
    "  if(1 > (d-2)/sum(X^2)){\n",
    "    mu = JSestim(X)\n",
    "  } else {\n",
    "    mu = rep(0,d)\n",
    "  }\n",
    "  return(mu)\n",
    "}"
   ]
  },
  {
   "cell_type": "code",
   "execution_count": 3,
   "metadata": {},
   "outputs": [
    {
     "name": "stdout",
     "output_type": "stream",
     "text": [
      "[1] \"Results\"\n"
     ]
    },
    {
     "data": {
      "text/html": [
       "<ol class=list-inline>\n",
       "\t<li>9.92456830806845</li>\n",
       "\t<li>4.20406182130861</li>\n",
       "\t<li>3.79526917241062</li>\n",
       "</ol>\n"
      ],
      "text/latex": [
       "\\begin{enumerate*}\n",
       "\\item 9.92456830806845\n",
       "\\item 4.20406182130861\n",
       "\\item 3.79526917241062\n",
       "\\end{enumerate*}\n"
      ],
      "text/markdown": [
       "1. 9.92456830806845\n",
       "2. 4.20406182130861\n",
       "3. 3.79526917241062\n",
       "\n",
       "\n"
      ],
      "text/plain": [
       "[1] 9.924568 4.204062 3.795269"
      ]
     },
     "metadata": {},
     "output_type": "display_data"
    }
   ],
   "source": [
    "### 1. Illustration of Stein's paradox\n",
    "d = 10\n",
    "R = 1000\n",
    "theta = rep(0,d)\n",
    "for(j in 1:d){\n",
    "  theta[j] = .9^j\n",
    "}\n",
    "\n",
    "# Start the loop\n",
    "Results = matrix(nrow=R, ncol=3)\n",
    "for(r in 1:R){\n",
    "  X = mvrnorm(n = 1, theta, Sigma=diag(d))\n",
    "  R1 = sum((X-theta)^2)\n",
    "  R2 = sum((JSestim(X)-theta)^2)\n",
    "  R3 = sum((PosJSestim(X)-theta)^2)\n",
    "  Results[r,] = c(R1,R2,R3)\n",
    "}\n",
    "\n",
    "print(\"Results\")\n",
    "apply(Results,2,mean)"
   ]
  },
  {
   "cell_type": "code",
   "execution_count": null,
   "metadata": {},
   "outputs": [],
   "source": []
  }
 ],
 "metadata": {
  "kernelspec": {
   "display_name": "R",
   "language": "R",
   "name": "ir"
  },
  "language_info": {
   "codemirror_mode": "r",
   "file_extension": ".r",
   "mimetype": "text/x-r-source",
   "name": "R",
   "pygments_lexer": "r",
   "version": "3.6.1"
  }
 },
 "nbformat": 4,
 "nbformat_minor": 2
}
