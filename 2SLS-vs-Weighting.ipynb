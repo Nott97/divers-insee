{
 "cells": [
  {
   "cell_type": "code",
   "execution_count": 11,
   "metadata": {},
   "outputs": [],
   "source": [
    "### Comparaison 2SLS vs Weighting to estimate group LATE\n",
    "### Jeremy L'Hour\n",
    "### 15/10/2019\n",
    "\n",
    "\n",
    "### FUNCTIONS AND PACKAGES\n",
    "#install.packages(\"AER\")\n",
    "library(\"AER\")\n",
    "\n",
    "dgp <- function(n,tau.h=1,tau.l=-1){\n",
    "\tmd_x = runif(n)\n",
    "\tZ = as.numeric(runif(n) < md_x)\n",
    "\teta = rnorm(n,sd=.7)\n",
    "\tD = .2 + .5*Z + eta\n",
    "    # Define groups\n",
    "    gamma = rexp(n)\n",
    "    high.effect     = quantile(gamma, .8)\n",
    "    low.effect      = quantile(gamma, .2)\n",
    "    high            = as.numeric(gamma>high.effect)\n",
    "    low             = as.numeric(gamma<low.effect)\n",
    "\tY = .6 + tau.l*low*D + tau.h*high*D + .5*(tau.l+tau.h)*(1-low-high)*D + (eta + rnorm(n))\n",
    "\treturn(data.frame(Y=Y,\n",
    "\t\t\t\t\t  D=D,\n",
    "\t\t\t\t\t  Z=Z,\n",
    "\t\t\t\t\t  gamma=gamma,\n",
    "\t\t\t\t\t  md_x=md_x))\n",
    "}"
   ]
  },
  {
   "cell_type": "code",
   "execution_count": null,
   "metadata": {},
   "outputs": [],
   "source": [
    "### SIMULATIONS\n",
    "R = 1000\n",
    "tau0.l = -.3\n",
    "tau0.h = .5\n",
    "thres = .2\n",
    "r = matrix(nrow=R, ncol=4)\n",
    "\n",
    "set.seed(69742)\n",
    "t_start = Sys.time()\n",
    "for(i in 1:R){\n",
    "\tdata <- dgp(n=5000,tau=tau0)\n",
    "\n",
    "\thigh.effect     = quantile(data$gamma, 1-thres)\n",
    "    low.effect      = quantile(data$gamma, thres)\n",
    "    data[,\"h\"]      = as.numeric(data$gamma>high.effect)\n",
    "    data[,\"l\"]      = as.numeric(data$gamma<low.effect)\n",
    "\n",
    "\tdata[,\"Dh\"]     = data[,\"D\"]*data$h\n",
    "  \tdata[,\"Dl\"]     = data[,\"D\"]*data$l\n",
    "  \tdata[,\"Dn\"]     = data[,\"D\"]*(1-data$h-data$h)\n",
    "  \tdata[,\"Zhd\"]    = (data[,\"Z\"]-data[,\"md_x\"])*data$h\n",
    "  \tdata[,\"Zld\"]    = (data[,\"Z\"]-data[,\"md_x\"])*data$l\n",
    "  \tdata[,\"Znd\"]    = (data[,\"Z\"]-data[,\"md_x\"])*(1-data$h-data$h)\n",
    "  \tdata[,\"Zh\"]     = data[,\"Z\"]*data$h\n",
    "  \tdata[,\"Zl\"]     = data[,\"Z\"]*data$l\n",
    "  \tdata[,\"Zn\"]     = data[,\"Z\"]*(1-data$h-data$h)\n",
    "    \n",
    "    data[,\"w\"]      = 1/(data[,\"md_x\"]*(1-data[,\"md_x\"]))\n",
    "\n",
    "\t### A. Weighting\n",
    "\treg.w <- ivreg(Y ~ Dh + Dl + Dn - 1 | Zhd + Zld + Znd - 1, data=data,weight=data[,\"w\"])\n",
    "\n",
    "\t### B. 2SLS\n",
    "\treg.2sls <- ivreg(Y ~ Dh + Dl + Dn | Zh + Zl + Zn, data=data)\n",
    "\n",
    "\t### C. Computing\n",
    "\n",
    "\t### D. Saving results\n",
    "\tr[i,] <- c(coef(reg.w)[c(\"Dh\",\"Dl\")],coef(reg.2sls)[c(\"Dh\",\"Dl\")])\n",
    "}\n",
    "print(Sys.time()-t_start)"
   ]
  },
  {
   "cell_type": "code",
   "execution_count": null,
   "metadata": {},
   "outputs": [],
   "source": [
    "### DISPLAY\n",
    "### COMPUTE BIAS AND RMSE\n",
    "StatDisplay = data.frame()\n",
    "StatDisplay[1:6,\"bias\"] =  abs(apply(r-tau0,2,mean))\n",
    "StatDisplay[1:6,\"MSE\"] = apply((r-tau0)^2,2,mean)\n",
    "row.names(StatDisplay) = c(\"weighting.high\",\"weighting.low\",\"2SLS.high\",\"2SLS.low\")\n",
    "print(StatDisplay)\n"
   ]
  },
  {
   "cell_type": "code",
   "execution_count": null,
   "metadata": {},
   "outputs": [],
   "source": []
  },
  {
   "cell_type": "code",
   "execution_count": null,
   "metadata": {},
   "outputs": [],
   "source": []
  }
 ],
 "metadata": {
  "kernelspec": {
   "display_name": "R",
   "language": "R",
   "name": "ir"
  },
  "language_info": {
   "codemirror_mode": "r",
   "file_extension": ".r",
   "mimetype": "text/x-r-source",
   "name": "R",
   "pygments_lexer": "r",
   "version": "3.6.1"
  }
 },
 "nbformat": 4,
 "nbformat_minor": 4
}
